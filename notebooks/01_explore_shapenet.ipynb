{
 "cells": [
  {
   "cell_type": "markdown",
   "id": "2446d5d9",
   "metadata": {},
   "source": [
    "# 01 — Explore ShapeNetCore\n",
    "\n",
    "Use this notebook with the **Python (pytorch3d)** kernel."
   ]
  },
  {
   "cell_type": "code",
   "execution_count": 1,
   "id": "18085b78",
   "metadata": {},
   "outputs": [
    {
     "name": "stdout",
     "output_type": "stream",
     "text": [
      "Python: 3.10.18 (main, Jun  5 2025, 08:37:47) [Clang 14.0.6 ]\n",
      "PyTorch: 2.8.0  MPS avail: True\n"
     ]
    }
   ],
   "source": [
    "# If the kernel isn't set yet: Kernel → Change Kernel → Python (pytorch3d)\n",
    "import sys, os, platform, torch\n",
    "print(\"Python:\", sys.version)\n",
    "print(\"PyTorch:\", torch.__version__, \" MPS avail:\", torch.backends.mps.is_available())\n"
   ]
  },
  {
   "cell_type": "markdown",
   "id": "016f71dd",
   "metadata": {},
   "source": [
    "## Paths\n",
    "Set this to your local dataset path. For this project it's expected at `./shapeNetCore`. Adjust if yours differs."
   ]
  },
  {
   "cell_type": "code",
   "execution_count": 2,
   "id": "35efa729",
   "metadata": {},
   "outputs": [
    {
     "name": "stdout",
     "output_type": "stream",
     "text": [
      "Using SHAPENET_PATH: /Users/brageramberg/Desktop/3DCNN/data/shapeNetCore\n"
     ]
    }
   ],
   "source": [
    "from pathlib import Path\n",
    "SHAPENET_PATH = Path('../data/shapeNetCore').expanduser().resolve()\n",
    "assert SHAPENET_PATH.exists(), f\"ShapeNetCore folder not found at {SHAPENET_PATH}\"\n",
    "print(\"Using SHAPENET_PATH:\", SHAPENET_PATH)"
   ]
  },
  {
   "cell_type": "markdown",
   "id": "0f23a917",
   "metadata": {},
   "source": [
    "## Imports"
   ]
  },
  {
   "cell_type": "code",
   "execution_count": 3,
   "id": "ee3d1233",
   "metadata": {},
   "outputs": [
    {
     "name": "stdout",
     "output_type": "stream",
     "text": [
      "Python: /Users/brageramberg/opt/miniconda3/envs/pytorch3d/bin/python\n",
      "First few sys.path entries: ['/Users/brageramberg/opt/miniconda3/envs/pytorch3d/lib/python310.zip', '/Users/brageramberg/opt/miniconda3/envs/pytorch3d/lib/python3.10', '/Users/brageramberg/opt/miniconda3/envs/pytorch3d/lib/python3.10/lib-dynload', '', '/Users/brageramberg/opt/miniconda3/envs/pytorch3d/lib/python3.10/site-packages']\n",
      "Local candidates: []\n",
      "Import spec for matplotlib: ModuleSpec(name='matplotlib', loader=<_frozen_importlib_external.SourceFileLoader object at 0x127757eb0>, origin='/Users/brageramberg/opt/miniconda3/envs/pytorch3d/lib/python3.10/site-packages/matplotlib/__init__.py', submodule_search_locations=['/Users/brageramberg/opt/miniconda3/envs/pytorch3d/lib/python3.10/site-packages/matplotlib'])\n"
     ]
    }
   ],
   "source": [
    "import sys, os, importlib.util, pathlib\n",
    "print(\"Python:\", sys.executable)\n",
    "print(\"First few sys.path entries:\", sys.path[:5])\n",
    "\n",
    "# Is there a local matplotlib module/folder?\n",
    "candidates = []\n",
    "for base in [pathlib.Path('.'), pathlib.Path('..')]:\n",
    "    for name in [\"matplotlib.py\", \"matplotlib\"]:\n",
    "        p = base / name\n",
    "        if p.exists():\n",
    "            candidates.append(p.resolve())\n",
    "print(\"Local candidates:\", candidates)\n",
    "\n",
    "# Where would Python import matplotlib from?\n",
    "spec = importlib.util.find_spec(\"matplotlib\")\n",
    "print(\"Import spec for matplotlib:\", spec)"
   ]
  },
  {
   "cell_type": "code",
   "execution_count": 4,
   "id": "b2c25268",
   "metadata": {},
   "outputs": [
    {
     "name": "stdout",
     "output_type": "stream",
     "text": [
      "Device: mps\n"
     ]
    }
   ],
   "source": [
    "import numpy as np\n",
    "import matplotlib.pyplot as plt\n",
    "from collections import Counter, defaultdict\n",
    "\n",
    "from pytorch3d.datasets import ShapeNetCore, collate_batched_meshes\n",
    "from pytorch3d.renderer import (\n",
    "    OpenGLPerspectiveCameras, PointLights, RasterizationSettings, look_at_view_transform\n",
    ")\n",
    "from pytorch3d.structures import Meshes\n",
    "import torch\n",
    "\n",
    "device = torch.device(\"mps\" if torch.backends.mps.is_available() else \"cpu\")\n",
    "print(\"Device:\", device)"
   ]
  },
  {
   "cell_type": "markdown",
   "id": "1040eab4",
   "metadata": {},
   "source": [
    "## Load dataset and Category overview"
   ]
  },
  {
   "cell_type": "code",
   "execution_count": 5,
   "id": "ce1bc325",
   "metadata": {},
   "outputs": [
    {
     "name": "stdout",
     "output_type": "stream",
     "text": [
      "Synset exists: True\n",
      "Contents of synset: ['91db88d4d0956e92a9a12c50dc330a66', 'eb2b450565c77e3efc7ff8f848d1c6c9', '871dcd6740ed8d2891a7ac029a825f73', 'aa73f1b28817376c6cf19e722198d69', '4516c31dae48a0efbff4c0ca0d98b77']\n",
      "Total models: 3891\n"
     ]
    },
    {
     "name": "stderr",
     "output_type": "stream",
     "text": [
      "/Users/brageramberg/opt/miniconda3/envs/pytorch3d/lib/python3.10/site-packages/pytorch3d/datasets/shapenet/shapenet_core.py:116: UserWarning: The following categories are included in ShapeNetCore ver.2's official mapping but not found in the dataset location /Users/brageramberg/Desktop/3DCNN/data/shapeNetCore: 03991062, 04468005, 03691459, 02843684, 04225987, 02880940, 02691156, 03624134, 04460130, 02818832, 03938244, 04530566, 02871439, 02828884, 03593526, 04554684, 03797390, 03710193, 03790512, 03948459, 02773838, 03636649, 04379243, 04074963, 04090263, 02958343, 04099429, 03085013, 03325088, 02954340, 04330267, 04401088, 03928116, 02747177, 02876657, 02946921, 04004475, 02933112, 03759954, 03761084, 03513137, 03337140, 03207941, 03261776, 02924116, 03467517, 03001627, 04256520, 02801938, 02942699\n",
      "  warnings.warn(msg)\n"
     ]
    }
   ],
   "source": [
    "from pytorch3d.datasets import ShapeNetCore\n",
    "import os\n",
    "from pathlib import Path\n",
    "\n",
    "synset = SHAPENET_PATH / \"03211117\"\n",
    "print(\"Synset exists:\", synset.exists())\n",
    "print(\"Contents of synset:\", os.listdir(synset)[:5])\n",
    "\n",
    "shapenet_dataset = ShapeNetCore(str(SHAPENET_PATH), version=2, load_textures=False)\n",
    "print(\"Total models:\", len(shapenet_dataset))\n"
   ]
  },
  {
   "cell_type": "code",
   "execution_count": 6,
   "id": "2ecefe32",
   "metadata": {},
   "outputs": [
    {
     "name": "stdout",
     "output_type": "stream",
     "text": [
      "Keys: dict_keys(['synset_id', 'model_id', 'verts', 'faces', 'textures', 'label'])\n",
      "Synset: 02992529\n",
      "Model ID: 49a51e66314253d3f2a0433fb7c53e0f\n",
      "Verts: torch.Size([1772, 3]) Faces: torch.Size([7024, 3])\n"
     ]
    }
   ],
   "source": [
    "#look at one sample\n",
    "\n",
    "sample = shapenet_dataset[0]\n",
    "print(\"Keys:\", sample.keys())\n",
    "print(\"Synset:\", sample[\"synset_id\"])\n",
    "print(\"Model ID:\", sample[\"model_id\"])\n",
    "print(\"Verts:\", sample[\"verts\"].shape, \"Faces:\", sample[\"faces\"].shape)"
   ]
  },
  {
   "cell_type": "code",
   "execution_count": 7,
   "id": "e929e073",
   "metadata": {},
   "outputs": [
    {
     "name": "stdout",
     "output_type": "stream",
     "text": [
      "Categories found: 5\n",
      "Example: [('02992529', 831), ('02808440', 856), ('03211117', 1093), ('03642806', 460), ('03046257', 651)]\n"
     ]
    }
   ],
   "source": [
    "from collections import Counter\n",
    "\n",
    "cat_counts = Counter()\n",
    "for i in range(len(shapenet_dataset)):\n",
    "    try:\n",
    "        cat_counts[shapenet_dataset[i][\"synset_id\"]] += 1\n",
    "    except Exception as e:\n",
    "        # skip broken model\n",
    "        print(\"Some model is broken\")\n",
    "        continue\n",
    "\n",
    "print(\"Categories found:\", len(cat_counts))\n",
    "print(\"Example:\", list(cat_counts.items())[:10])"
   ]
  },
  {
   "cell_type": "code",
   "execution_count": 11,
   "id": "8607c49a",
   "metadata": {},
   "outputs": [],
   "source": [
    "SYNSET_ID_TO_NAME = {\n",
    "    \"02691156\": \"airplane\",\n",
    "    \"02773838\": \"bag\",\n",
    "    \"02801938\": \"basket\",\n",
    "    \"02808440\": \"bathtub\",\n",
    "    \"02818832\": \"bed\",\n",
    "    \"02828884\": \"bench\",\n",
    "    \"02876657\": \"bottle\",\n",
    "    \"02880940\": \"bowl\",\n",
    "    \"02924116\": \"bus\",\n",
    "    \"02933112\": \"cabinet\",\n",
    "    \"02958343\": \"car\",\n",
    "    \"03001627\": \"chair\",\n",
    "    \"03211117\": \"monitor\",\n",
    "    \"03636649\": \"lamp\",\n",
    "    \"03642806\": \"laptop\",\n",
    "    \"03797390\": \"mug\",\n",
    "    \"04004475\": \"printer\",\n",
    "    \"04256520\": \"sofa\",\n",
    "    \"04379243\": \"table\",\n",
    "    \"04530566\": \"vessel\",\n",
    "    # ... add more if needed\n",
    "}"
   ]
  },
  {
   "cell_type": "code",
   "execution_count": 12,
   "id": "61c13179",
   "metadata": {},
   "outputs": [
    {
     "name": "stdout",
     "output_type": "stream",
     "text": [
      "Total categories: 5\n"
     ]
    },
    {
     "data": {
      "text/html": [
       "<div>\n",
       "<style scoped>\n",
       "    .dataframe tbody tr th:only-of-type {\n",
       "        vertical-align: middle;\n",
       "    }\n",
       "\n",
       "    .dataframe tbody tr th {\n",
       "        vertical-align: top;\n",
       "    }\n",
       "\n",
       "    .dataframe thead th {\n",
       "        text-align: right;\n",
       "    }\n",
       "</style>\n",
       "<table border=\"1\" class=\"dataframe\">\n",
       "  <thead>\n",
       "    <tr style=\"text-align: right;\">\n",
       "      <th></th>\n",
       "      <th>synset_id</th>\n",
       "      <th>name</th>\n",
       "      <th>count</th>\n",
       "    </tr>\n",
       "  </thead>\n",
       "  <tbody>\n",
       "    <tr>\n",
       "      <th>0</th>\n",
       "      <td>03211117</td>\n",
       "      <td>monitor</td>\n",
       "      <td>1093</td>\n",
       "    </tr>\n",
       "    <tr>\n",
       "      <th>1</th>\n",
       "      <td>02808440</td>\n",
       "      <td>bathtub</td>\n",
       "      <td>856</td>\n",
       "    </tr>\n",
       "    <tr>\n",
       "      <th>2</th>\n",
       "      <td>02992529</td>\n",
       "      <td>unknown</td>\n",
       "      <td>831</td>\n",
       "    </tr>\n",
       "    <tr>\n",
       "      <th>3</th>\n",
       "      <td>03046257</td>\n",
       "      <td>unknown</td>\n",
       "      <td>651</td>\n",
       "    </tr>\n",
       "    <tr>\n",
       "      <th>4</th>\n",
       "      <td>03642806</td>\n",
       "      <td>laptop</td>\n",
       "      <td>460</td>\n",
       "    </tr>\n",
       "  </tbody>\n",
       "</table>\n",
       "</div>"
      ],
      "text/plain": [
       "  synset_id     name  count\n",
       "0  03211117  monitor   1093\n",
       "1  02808440  bathtub    856\n",
       "2  02992529  unknown    831\n",
       "3  03046257  unknown    651\n",
       "4  03642806   laptop    460"
      ]
     },
     "execution_count": 12,
     "metadata": {},
     "output_type": "execute_result"
    }
   ],
   "source": [
    "import pandas as pd\n",
    "\n",
    "rows = []\n",
    "for synset, count in sorted(cat_counts.items(), key=lambda x: -x[1]):\n",
    "    rows.append({\n",
    "        \"synset_id\": synset,\n",
    "        \"name\": SYNSET_ID_TO_NAME.get(synset, \"unknown\"),\n",
    "        \"count\": count\n",
    "    })\n",
    "\n",
    "df_cats = pd.DataFrame(rows)\n",
    "print(\"Total categories:\", len(df_cats))\n",
    "df_cats.head(15)"
   ]
  },
  {
   "cell_type": "code",
   "execution_count": 13,
   "id": "2a3e3eb3",
   "metadata": {},
   "outputs": [
    {
     "name": "stdout",
     "output_type": "stream",
     "text": [
      "Total categories: 5\n"
     ]
    },
    {
     "data": {
      "text/html": [
       "<div>\n",
       "<style scoped>\n",
       "    .dataframe tbody tr th:only-of-type {\n",
       "        vertical-align: middle;\n",
       "    }\n",
       "\n",
       "    .dataframe tbody tr th {\n",
       "        vertical-align: top;\n",
       "    }\n",
       "\n",
       "    .dataframe thead th {\n",
       "        text-align: right;\n",
       "    }\n",
       "</style>\n",
       "<table border=\"1\" class=\"dataframe\">\n",
       "  <thead>\n",
       "    <tr style=\"text-align: right;\">\n",
       "      <th></th>\n",
       "      <th>synset_id</th>\n",
       "      <th>name</th>\n",
       "      <th>count</th>\n",
       "    </tr>\n",
       "  </thead>\n",
       "  <tbody>\n",
       "    <tr>\n",
       "      <th>0</th>\n",
       "      <td>03211117</td>\n",
       "      <td>display</td>\n",
       "      <td>1093</td>\n",
       "    </tr>\n",
       "    <tr>\n",
       "      <th>1</th>\n",
       "      <td>02808440</td>\n",
       "      <td>bathtub</td>\n",
       "      <td>856</td>\n",
       "    </tr>\n",
       "    <tr>\n",
       "      <th>2</th>\n",
       "      <td>02992529</td>\n",
       "      <td>cellphone</td>\n",
       "      <td>831</td>\n",
       "    </tr>\n",
       "    <tr>\n",
       "      <th>3</th>\n",
       "      <td>03046257</td>\n",
       "      <td>clock</td>\n",
       "      <td>651</td>\n",
       "    </tr>\n",
       "    <tr>\n",
       "      <th>4</th>\n",
       "      <td>03642806</td>\n",
       "      <td>laptop</td>\n",
       "      <td>460</td>\n",
       "    </tr>\n",
       "  </tbody>\n",
       "</table>\n",
       "</div>"
      ],
      "text/plain": [
       "  synset_id       name  count\n",
       "0  03211117    display   1093\n",
       "1  02808440    bathtub    856\n",
       "2  02992529  cellphone    831\n",
       "3  03046257      clock    651\n",
       "4  03642806     laptop    460"
      ]
     },
     "execution_count": 13,
     "metadata": {},
     "output_type": "execute_result"
    }
   ],
   "source": [
    "import json\n",
    "from importlib import resources\n",
    "from pytorch3d.datasets import shapenet as p3d_shapenet\n",
    "\n",
    "# Load the synset->name map that ships with PyTorch3D (v2 here)\n",
    "with resources.files(p3d_shapenet).joinpath(\"shapenet_synset_dict_v2.json\").open(\"r\") as f:\n",
    "    synset_map_v2 = json.load(f)  # e.g. {\"03001627\": \"chair\", ...}\n",
    "\n",
    "# Rebuild your dataframe with proper names\n",
    "import pandas as pd\n",
    "from collections import Counter\n",
    "\n",
    "cat_counts = Counter([shapenet_dataset._get_item_ids(i)[\"synset_id\"] for i in range(len(shapenet_dataset))])\n",
    "\n",
    "rows = []\n",
    "for synset, count in sorted(cat_counts.items(), key=lambda x: -x[1]):\n",
    "    rows.append({\n",
    "        \"synset_id\": synset,\n",
    "        \"name\": synset_map_v2.get(synset, \"unknown\"),\n",
    "        \"count\": count\n",
    "    })\n",
    "\n",
    "df_cats = pd.DataFrame(rows)\n",
    "print(\"Total categories:\", len(df_cats))\n",
    "df_cats.head(20)"
   ]
  },
  {
   "cell_type": "code",
   "execution_count": 18,
   "id": "7565d771",
   "metadata": {},
   "outputs": [
    {
     "data": {
      "image/png": "[encoded data removed]",
      "text/plain": [
       "<Figure size 1000x500 with 1 Axes>"
      ]
     },
     "metadata": {},
     "output_type": "display_data"
    }
   ],
   "source": [
    "# Top 10 categories by count\n",
    "df_cats.sort_values(\"count\", ascending=False).head(10)\n",
    "\n",
    "# Any synsets without a name (should be none now)\n",
    "df_cats[df_cats[\"name\"] == \"unknown\"]\n",
    "\n",
    "# Plot distribution (requires matplotlib)\n",
    "import matplotlib.pyplot as plt\n",
    "plt.figure(figsize=(10,5))\n",
    "(df_cats.sort_values(\"count\", ascending=False)\n",
    "        .head(15)\n",
    "        .set_index(\"name\")[\"count\"]\n",
    "        .plot(kind=\"bar\"))\n",
    "plt.title(\"Top ShapeNetCore (v2) categories\")\n",
    "plt.xlabel(\"Category\")\n",
    "plt.ylabel(\"Model count\")\n",
    "plt.tight_layout()\n",
    "plt.show()"
   ]
  }
 ],
 "metadata": {
  "kernelspec": {
   "display_name": "pytorch3d",
   "language": "python",
   "name": "python3"
  },
  "language_info": {
   "codemirror_mode": {
    "name": "ipython",
    "version": 3
   },
   "file_extension": ".py",
   "mimetype": "text/x-python",
   "name": "python",
   "nbconvert_exporter": "python",
   "pygments_lexer": "ipython3",
   "version": "3.10.18"
  }
 },
 "nbformat": 4,
 "nbformat_minor": 5
}
