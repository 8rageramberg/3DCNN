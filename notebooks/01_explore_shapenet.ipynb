{
 "cells": [
  {
   "cell_type": "markdown",
   "id": "2446d5d9",
   "metadata": {},
   "source": [
    "# 01 — Explore ShapeNetCore\n",
    "\n",
    "Use this notebook with the **Python (pytorch3d)** kernel."
   ]
  },
  {
   "cell_type": "code",
   "execution_count": null,
   "id": "18085b78",
   "metadata": {},
   "outputs": [
    {
     "name": "stdout",
     "output_type": "stream",
     "text": [
      "Python: 3.10.18 (main, Jun  5 2025, 08:37:47) [Clang 14.0.6 ]\n",
      "PyTorch: 2.8.0  MPS avail: True\n"
     ]
    }
   ],
   "source": [
    "# If the kernel isn't set yet: Kernel → Change Kernel → Python (pytorch3d)\n",
    "import sys, os, platform, torch\n",
    "print(\"Python:\", sys.version)\n",
    "print(\"PyTorch:\", torch.__version__, \" MPS avail:\", torch.backends.mps.is_available())\n",
    "\n",
    "\n"
   ]
  },
  {
   "cell_type": "markdown",
   "id": "016f71dd",
   "metadata": {},
   "source": [
    "## Paths\n",
    "Set this to your local dataset path. For this project it's expected at `./shapeNetCore`. Adjust if yours differs."
   ]
  },
  {
   "cell_type": "code",
   "execution_count": null,
   "id": "35efa729",
   "metadata": {},
   "outputs": [
    {
     "name": "stdout",
     "output_type": "stream",
     "text": [
      "Using SHAPENET_PATH: /Users/brageramberg/Desktop/3DCNN/data/shapeNetCore\n"
     ]
    }
   ],
   "source": [
    "from pathlib import Path\n",
    "SHAPENET_PATH = Path('../data/shapeNetCore').expanduser().resolve()\n",
    "assert SHAPENET_PATH.exists(), f\"ShapeNetCore folder not found at {SHAPENET_PATH}\"\n",
    "print(\"Using SHAPENET_PATH:\", SHAPENET_PATH)\n",
    "\n"
   ]
  },
  {
   "cell_type": "markdown",
   "id": "0f23a917",
   "metadata": {},
   "source": [
    "## Imports"
   ]
  },
  {
   "cell_type": "code",
   "execution_count": null,
   "id": "ee3d1233",
   "metadata": {},
   "outputs": [
    {
     "name": "stdout",
     "output_type": "stream",
     "text": [
      "Python: /Users/brageramberg/opt/miniconda3/envs/pytorch3d/bin/python\n",
      "First few sys.path entries: ['/Users/brageramberg/opt/miniconda3/envs/pytorch3d/lib/python310.zip', '/Users/brageramberg/opt/miniconda3/envs/pytorch3d/lib/python3.10', '/Users/brageramberg/opt/miniconda3/envs/pytorch3d/lib/python3.10/lib-dynload', '', '/Users/brageramberg/opt/miniconda3/envs/pytorch3d/lib/python3.10/site-packages']\n",
      "Local candidates: []\n",
      "Import spec for matplotlib: ModuleSpec(name='matplotlib', loader=<_frozen_importlib_external.SourceFileLoader object at 0x120551540>, origin='/Users/brageramberg/opt/miniconda3/envs/pytorch3d/lib/python3.10/site-packages/matplotlib/__init__.py', submodule_search_locations=['/Users/brageramberg/opt/miniconda3/envs/pytorch3d/lib/python3.10/site-packages/matplotlib'])\n"
     ]
    }
   ],
   "source": [
    "import sys, os, importlib.util, pathlib\n",
    "print(\"Python:\", sys.executable)\n",
    "print(\"First few sys.path entries:\", sys.path[:5])\n",
    "\n",
    "# Is there a local matplotlib module/folder?\n",
    "candidates = []\n",
    "for base in [pathlib.Path('.'), pathlib.Path('..')]:\n",
    "    for name in [\"matplotlib.py\", \"matplotlib\"]:\n",
    "        p = base / name\n",
    "        if p.exists():\n",
    "            candidates.append(p.resolve())\n",
    "print(\"Local candidates:\", candidates)\n",
    "\n",
    "# Where would Python import matplotlib from?\n",
    "spec = importlib.util.find_spec(\"matplotlib\")\n",
    "print(\"Import spec for matplotlib:\", spec)\n",
    "\n"
   ]
  },
  {
   "cell_type": "code",
   "execution_count": null,
   "id": "b2c25268",
   "metadata": {},
   "outputs": [
    {
     "name": "stdout",
     "output_type": "stream",
     "text": [
      "Device: mps\n"
     ]
    }
   ],
   "source": [
    "import numpy as np\n",
    "import matplotlib.pyplot as plt\n",
    "from collections import Counter, defaultdict\n",
    "\n",
    "from pytorch3d.datasets import ShapeNetCore, collate_batched_meshes\n",
    "from pytorch3d.renderer import (\n",
    "    OpenGLPerspectiveCameras, PointLights, RasterizationSettings, look_at_view_transform\n",
    ")\n",
    "from pytorch3d.structures import Meshes\n",
    "import torch\n",
    "\n",
    "device = torch.device(\"mps\" if torch.backends.mps.is_available() else \"cpu\")\n",
    "print(\"Device:\", device)\n",
    "\n"
   ]
  },
  {
   "cell_type": "markdown",
   "id": "1040eab4",
   "metadata": {},
   "source": [
    "## Load dataset and Category overview"
   ]
  },
  {
   "cell_type": "code",
   "execution_count": null,
   "id": "ce1bc325",
   "metadata": {},
   "outputs": [
    {
     "name": "stdout",
     "output_type": "stream",
     "text": [
      "Synset exists: True\n",
      "Contents of synset: ['91db88d4d0956e92a9a12c50dc330a66', 'eb2b450565c77e3efc7ff8f848d1c6c9', '871dcd6740ed8d2891a7ac029a825f73', 'aa73f1b28817376c6cf19e722198d69', '4516c31dae48a0efbff4c0ca0d98b77']\n"
     ]
    },
    {
     "name": "stderr",
     "output_type": "stream",
     "text": [
      "/Users/brageramberg/opt/miniconda3/envs/pytorch3d/lib/python3.10/site-packages/pytorch3d/datasets/shapenet/shapenet_core.py:116: UserWarning: The following categories are included in ShapeNetCore ver.2's official mapping but not found in the dataset location /Users/brageramberg/Desktop/3DCNN/data/shapeNetCore: 04256520, 03710193, 03761084, 03759954, 04099429, 03337140, 03948459, 02933112, 02801938, 02871439, 04330267, 04401088, 03790512, 03467517, 04468005, 02924116, 04530566, 02876657, 03593526, 02747177, 02691156, 02954340, 03928116, 02818832, 04225987, 04004475, 04379243, 03938244, 02942699, 03325088, 03691459, 04074963, 03991062, 04460130, 03797390, 04090263, 03207941, 02946921, 02828884, 03001627, 04554684, 03513137, 02773838, 02958343, 03636649, 03624134, 02843684, 02880940, 03261776, 03085013\n",
      "  warnings.warn(msg)\n"
     ]
    },
    {
     "name": "stdout",
     "output_type": "stream",
     "text": [
      "Total models: 3891\n"
     ]
    }
   ],
   "source": [
    "from pytorch3d.datasets import ShapeNetCore\n",
    "import os\n",
    "from pathlib import Path\n",
    "\n",
    "synset = SHAPENET_PATH / \"03211117\"\n",
    "print(\"Synset exists:\", synset.exists())\n",
    "print(\"Contents of synset:\", os.listdir(synset)[:5])\n",
    "\n",
    "shapenet_dataset = ShapeNetCore(str(SHAPENET_PATH), version=2, load_textures=False)\n",
    "print(\"Total models:\", len(shapenet_dataset))\n",
    "\n"
   ]
  },
  {
   "cell_type": "code",
   "execution_count": null,
   "id": "2ecefe32",
   "metadata": {},
   "outputs": [
    {
     "name": "stdout",
     "output_type": "stream",
     "text": [
      "Keys: dict_keys(['synset_id', 'model_id', 'verts', 'faces', 'textures', 'label'])\n",
      "Synset: 02808440\n",
      "Model ID: cb38405e384c79c05e4e385b035691bb\n",
      "Verts: torch.Size([6994, 3]) Faces: torch.Size([28700, 3])\n"
     ]
    }
   ],
   "source": [
    "#look at one sample\n",
    "\n",
    "sample = shapenet_dataset[0]\n",
    "print(\"Keys:\", sample.keys())\n",
    "print(\"Synset:\", sample[\"synset_id\"])\n",
    "print(\"Model ID:\", sample[\"model_id\"])\n",
    "print(\"Verts:\", sample[\"verts\"].shape, \"Faces:\", sample[\"faces\"].shape)\n",
    "\n"
   ]
  },
  {
   "cell_type": "code",
   "execution_count": 8,
   "id": "e929e073",
   "metadata": {},
   "outputs": [
    {
     "name": "stdout",
     "output_type": "stream",
     "text": [
      "Categories found: 5\n",
      "Example: [('02808440', 856), ('03642806', 460), ('03046257', 651), ('03211117', 1093), ('02992529', 831)]\n"
     ]
    }
   ],
   "source": [
    "from collections import Counter\n",
    "\n",
    "cat_counts = Counter()\n",
    "for i in range(len(shapenet_dataset)):\n",
    "    try:\n",
    "        cat_counts[shapenet_dataset[i][\"synset_id\"]] += 1\n",
    "    except Exception as e:\n",
    "        # skip broken model\n",
    "        print(\"Some model is broken\")\n",
    "        continue\n",
    "\n",
    "print(\"Categories found:\", len(cat_counts))\n",
    "print(\"Example:\", list(cat_counts.items())[:10])"
   ]
  },
  {
   "cell_type": "code",
   "execution_count": null,
   "id": "8607c49a",
   "metadata": {},
   "outputs": [],
   "source": []
  }
 ],
 "metadata": {
  "kernelspec": {
   "display_name": "pytorch3d",
   "language": "python",
   "name": "python3"
  },
  "language_info": {
   "codemirror_mode": {
    "name": "ipython",
    "version": 3
   },
   "file_extension": ".py",
   "mimetype": "text/x-python",
   "name": "python",
   "nbconvert_exporter": "python",
   "pygments_lexer": "ipython3",
   "version": "3.10.18"
  }
 },
 "nbformat": 4,
 "nbformat_minor": 5
}
