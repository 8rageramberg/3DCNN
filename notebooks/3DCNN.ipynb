{
 "cells": [
  {
   "cell_type": "markdown",
   "id": "c134977e",
   "metadata": {},
   "source": [
    "## 3D CNN on ShapeNetCore (5 classes) — step‑by‑step notebook\n",
    "\n",
    "Goal: Train a simple 3D CNN classifier on a 5‑class subset of ShapeNetCore using the provided model_normalized.surface.binvox voxel files. This notebook is written to be learnable: bite‑sized steps, clear headings, and plenty of comments."
   ]
  },
  {
   "cell_type": "markdown",
   "id": "b07750d2",
   "metadata": {},
   "source": [
    "\n"
   ]
  },
  {
   "cell_type": "code",
   "execution_count": null,
   "id": "d95e8858",
   "metadata": {},
   "outputs": [
    {
     "name": "stdout",
     "output_type": "stream",
     "text": [
      "Using SHAPENET_PATH: /Users/brageramberg/Desktop/3DCNN/data/shapeNetCore\n"
     ]
    },
    {
     "data": {
      "text/plain": [
       "device(type='mps')"
      ]
     },
     "execution_count": 2,
     "metadata": {},
     "output_type": "execute_result"
    }
   ],
   "source": [
    "from pathlib import Path\n",
    "import json, pkgutil, io\n",
    "\n",
    "# ✍️ Set this to your local dataset folder (the directory that contains the synset folders, e.g. 03211117, 02808440, …)\n",
    "SHAPENET_PATH = Path('../data/shapeNetCore').expanduser().resolve()\n",
    "assert SHAPENET_PATH.exists(), f\"ShapeNetCore folder not found at {SHAPENET_PATH}\"\n",
    "print(\"Using SHAPENET_PATH:\", SHAPENET_PATH)\n",
    "\n",
    "import torch\n",
    "device = (\n",
    "    torch.device(\"mps\") if getattr(torch.backends, \"mps\", None) and torch.backends.mps.is_available()\n",
    "    else torch.device(\"cuda\") if torch.cuda.is_available()\n",
    "    else torch.device(\"cpu\")\n",
    ")\n",
    "device"
   ]
  },
  {
   "cell_type": "markdown",
   "id": "2b20b561",
   "metadata": {},
   "source": [
    "## .binvox reader"
   ]
  },
  {
   "cell_type": "code",
   "execution_count": 3,
   "id": "e5cc76f1",
   "metadata": {},
   "outputs": [],
   "source": [
    "import numpy as np\n",
    "import gzip\n",
    "import struct\n",
    "\n",
    "def read_binvox(path):\n",
    "    \"\"\"\n",
    "    Minimal binvox reader that returns a boolean numpy array (D, H, W).\n",
    "    Supports RLE 'data' format used by ShapeNet binvox files.\n",
    "    \"\"\"\n",
    "    # open file (supports gz too)\n",
    "    open_fn = gzip.open if str(path).endswith(\".gz\") else open\n",
    "    with open_fn(path, \"rb\") as f:\n",
    "        # header\n",
    "        line = f.readline().decode(\"ascii\").strip()\n",
    "        if line != \"#binvox 1\":\n",
    "            raise ValueError(\"Not a binvox file\")\n",
    "        dims = []\n",
    "        translate = []\n",
    "        scale = None\n",
    "        while True:\n",
    "            line = f.readline().decode(\"ascii\").strip()\n",
    "            if line.startswith(\"dim\"):\n",
    "                _, dx, dy, dz = line.split()\n",
    "                dims = (int(dx), int(dy), int(dz))\n",
    "            elif line.startswith(\"translate\"):\n",
    "                translate = list(map(float, line.split()[1:]))\n",
    "            elif line.startswith(\"scale\"):\n",
    "                scale = float(line.split()[1])\n",
    "            elif line == \"data\":\n",
    "                break\n",
    "\n",
    "        # RLE voxels (value, count) pairs of unsigned bytes\n",
    "        raw = f.read()\n",
    "        # two bytes per run\n",
    "        values = np.frombuffer(raw, dtype=np.uint8)\n",
    "        assert len(values) % 2 == 0, \"Corrupt binvox RLE stream\"\n",
    "        values = values.reshape(-1, 2)\n",
    "        # expand runs\n",
    "        voxels = np.repeat(values[:, 0], values[:, 1]).astype(np.uint8)\n",
    "        voxels = voxels.reshape(dims)  # dims order: x, y, z\n",
    "        # binvox stores as x,y,z — we’ll standardize to z,y,x (D,H,W) for PyTorch (channels-first later)\n",
    "        voxels = np.transpose(voxels, (2, 1, 0))  # (z, y, x)\n",
    "        voxels = voxels.astype(bool)\n",
    "        return voxels"
   ]
  },
  {
   "cell_type": "code",
   "execution_count": null,
   "id": "a08e73a7",
   "metadata": {},
   "outputs": [],
   "source": []
  }
 ],
 "metadata": {
  "kernelspec": {
   "display_name": "pytorch3d",
   "language": "python",
   "name": "python3"
  },
  "language_info": {
   "codemirror_mode": {
    "name": "ipython",
    "version": 3
   },
   "file_extension": ".py",
   "mimetype": "text/x-python",
   "name": "python",
   "nbconvert_exporter": "python",
   "pygments_lexer": "ipython3",
   "version": "3.10.18"
  }
 },
 "nbformat": 4,
 "nbformat_minor": 5
}
